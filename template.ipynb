{
 "cells": [
  {
   "cell_type": "code",
   "execution_count": 7,
   "metadata": {},
   "outputs": [
    {
     "name": "stdout",
     "output_type": "stream",
     "text": [
      " * Serving Flask app \"__main__\" (lazy loading)\n",
      " * Environment: production\n",
      "   WARNING: This is a development server. Do not use it in a production deployment.\n",
      "   Use a production WSGI server instead.\n",
      " * Debug mode: off\n"
     ]
    },
    {
     "name": "stderr",
     "output_type": "stream",
     "text": [
      " * Running on http://0.0.0.0:13521/ (Press CTRL+C to quit)\n",
      "127.0.0.1 - - [10/Sep/2020 21:49:41] \"POST / HTTP/1.1\" 404 -\n",
      "127.0.0.1 - - [10/Sep/2020 21:50:42] \"POST / HTTP/1.1\" 404 -\n",
      "127.0.0.1 - - [10/Sep/2020 21:51:42] \"POST / HTTP/1.1\" 404 -\n",
      "127.0.0.1 - - [10/Sep/2020 21:52:43] \"POST / HTTP/1.1\" 404 -\n",
      "127.0.0.1 - - [10/Sep/2020 21:53:44] \"POST / HTTP/1.1\" 404 -\n",
      "127.0.0.1 - - [10/Sep/2020 21:54:44] \"POST / HTTP/1.1\" 404 -\n",
      "127.0.0.1 - - [10/Sep/2020 21:55:45] \"POST / HTTP/1.1\" 404 -\n",
      "127.0.0.1 - - [10/Sep/2020 21:56:45] \"POST / HTTP/1.1\" 404 -\n",
      "127.0.0.1 - - [10/Sep/2020 21:57:46] \"POST / HTTP/1.1\" 404 -\n",
      "127.0.0.1 - - [10/Sep/2020 21:58:46] \"POST / HTTP/1.1\" 404 -\n",
      "127.0.0.1 - - [10/Sep/2020 21:59:47] \"POST / HTTP/1.1\" 404 -\n",
      "127.0.0.1 - - [10/Sep/2020 22:00:48] \"POST / HTTP/1.1\" 404 -\n"
     ]
    }
   ],
   "source": [
    "\n",
    "import pandas as pd\n",
    "import numpy as np\n",
    "import datetime\n",
    "import time\n",
    "import configparser\n",
    "import logging\n",
    "from os import listdir\n",
    "import os\n",
    "from os.path import isfile, join\n",
    "\n",
    "from flask import Flask, request\n",
    "import telegram\n",
    "from telegram import ReplyKeyboardMarkup, InlineKeyboardMarkup, InlineKeyboardButton\n",
    "from telegram.ext import Dispatcher, CommandHandler, MessageHandler, Filters, CallbackQueryHandler\n",
    "import requests\n",
    "from datetime import datetime\n",
    "import configparser\n",
    "\n",
    "path = os.path.abspath('.')\n",
    "\n",
    "\n",
    "\n",
    "app = Flask(__name__)\n",
    "\n",
    "config = configparser.RawConfigParser()\n",
    "config.read(\"./secret.ini\")\n",
    "Token = config[\"TELEGRAM\"][\"ACCESS_TOKEN\"]\n",
    "\n",
    "Token = \"661544421:AAHuZSMukZmFlhU-npE23CowogP375a0au4\"\n",
    "url = \"https://5465602902fa.ngrok.io\"\n",
    "\n",
    "\n",
    "\n",
    "bot = telegram.Bot(token=Token)\n",
    "\n",
    "\n",
    "\n",
    "@app.route('/hook', methods=['POST'])\n",
    "def webhook_handler():\n",
    "    \"\"\"Set route /hook with POST method will trigger this method.\"\"\"\n",
    "    if request.method == \"POST\":\n",
    "        update = telegram.Update.de_json(request.get_json(force=True), bot)\n",
    "        dispatcher.process_update(update)\n",
    "    return 'ok'\n",
    "\n",
    "\n",
    "def start_handler(bot, update):\n",
    "    \"\"\"Send a message when the command /start is issued.\"\"\"\n",
    "    \n",
    "    update.message.reply_text(\"Hi 歡迎使用\")\n",
    "\n",
    "def help_handler(bot, update):\n",
    "    \"\"\"Send a message when the command /help is issued.\"\"\"\n",
    "    \n",
    "    help_message = \"收到請求幫助了\"\n",
    "    \n",
    "    update.message.reply_text(help_message)\n",
    "    \n",
    "def reply_handler(bot, update):\n",
    "    text = update.message.text\n",
    "    print(text)\n",
    "    update.message.reply_text(f\"你剛剛說了 {text}\")\n",
    "    \n",
    "def error_handler(bot, update, error):\n",
    "    \"\"\"Log Errors caused by Updates.\"\"\"\n",
    "    chat_id = update.message.chat.id\n",
    "    print(update)\n",
    "    print(error)\n",
    "    update.haveSend = True\n",
    "    update.message.reply_text(text = '對不起，系統錯誤\\n歡迎回報，告訴開發者')\n",
    "\n",
    "\n",
    "dispatcher = Dispatcher(bot, None)\n",
    "dispatcher.add_handler(MessageHandler(Filters.text, reply_handler))\n",
    "dispatcher.add_handler(CommandHandler('start', start_handler))\n",
    "dispatcher.add_handler(CommandHandler('help', help_handler))\n",
    "dispatcher.add_error_handler(error_handler)\n",
    "\n",
    "\n",
    "#https://api.telegram.org/bot1101986164:AAHRD3yDy0ZVStaYn9vxt4kZxOyLfubbVVA/setWebhook?url=https://gcp-wp-0.tsraise.com/hook\n",
    "#https://api.telegram.org/bot{TOKEN}/setWebhook?url=https://gcp-wp-0.tsraise.com/hook\n",
    "\n",
    "if __name__ == \"__main__\":\n",
    "    # Running server\n",
    "    app.run(host = \"0.0.0.0\", port = 13521)\n"
   ]
  },
  {
   "cell_type": "code",
   "execution_count": 6,
   "metadata": {},
   "outputs": [
    {
     "name": "stdout",
     "output_type": "stream",
     "text": [
      "{'ok': True, 'result': True, 'description': 'Webhook is already set'}\n"
     ]
    }
   ],
   "source": [
    "result = requests.post(f\"https://api.telegram.org/bot{Token}/setWebhook?url={url}\")\n",
    "print(result.json())"
   ]
  },
  {
   "cell_type": "code",
   "execution_count": null,
   "metadata": {},
   "outputs": [],
   "source": []
  }
 ],
 "metadata": {
  "kernelspec": {
   "display_name": "Python 3",
   "language": "python",
   "name": "python3"
  },
  "language_info": {
   "codemirror_mode": {
    "name": "ipython",
    "version": 3
   },
   "file_extension": ".py",
   "mimetype": "text/x-python",
   "name": "python",
   "nbconvert_exporter": "python",
   "pygments_lexer": "ipython3",
   "version": "3.7.4"
  }
 },
 "nbformat": 4,
 "nbformat_minor": 2
}
